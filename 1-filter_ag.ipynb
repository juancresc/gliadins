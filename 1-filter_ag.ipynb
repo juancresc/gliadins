{
 "cells": [
  {
   "cell_type": "code",
   "execution_count": 35,
   "metadata": {},
   "outputs": [],
   "source": [
    "#!/usr/bin/env python\n",
    "# -*- coding: utf-8 -*-\n",
    "import pandas as pd\n",
    "from Bio import SeqIO\n",
    "from Bio.SeqRecord import SeqRecord\n",
    "from Bio.Seq import Seq\n",
    "import subprocess\n"
   ]
  },
  {
   "cell_type": "code",
   "execution_count": 36,
   "metadata": {},
   "outputs": [],
   "source": [
    "def read_gff(path):\n",
    "    df = pd.read_csv(path, index_col=False, sep='\\t', header=None, comment=\"#\")\n",
    "    df.columns = ['seqname', 'source', 'feature', 'start', 'end', 'score', 'strand', 'frame', 'attribute']\n",
    "    return df\n",
    "\n",
    "def sys(command):\n",
    "    \"\"\"\n",
    "    \"\"\"\n",
    "    print(\"-\" * 10)\n",
    "    print(\"Executing: %s\" % command)\n",
    "    process = subprocess.Popen(command,shell=True,stdout=subprocess.PIPE,stderr=subprocess.PIPE)\n",
    "    stdout, stderr = process.communicate()\n",
    "    print(\"Result: stdout: %s - stderr: %s\" % (stdout, stderr))\n",
    "    print(\"-\" * 10)\n",
    "    return stdout, stderr"
   ]
  },
  {
   "cell_type": "code",
   "execution_count": 37,
   "metadata": {},
   "outputs": [],
   "source": [
    "functional_annotation = \"data/genomes/iwgsc_refseqv1.0_FunctionalAnnotation_v1__HCgenes_v1.0.TAB\"\n",
    "functional_annotation_filtered = \"data/genomes/alpha_gliadins.functional.csv\"\n",
    "temp_1 = \"data/genomes/t1.csv\"\n",
    "temp_2 = \"data/genomes/t2.csv\"\n",
    "annotation = \"/home/juan/Desktop/juan/bio/data/IWGSC/42/Triticum_aestivum.IWGSC.42.clean.gff3\"\n",
    "genome = \"/home/juan/Desktop/juan/bio/data/IWGSC/42/Triticum_aestivum.IWGSC.dna.toplevel.fa\"\n",
    "\n"
   ]
  },
  {
   "cell_type": "code",
   "execution_count": 38,
   "metadata": {},
   "outputs": [
    {
     "name": "stdout",
     "output_type": "stream",
     "text": [
      "----------\n",
      "Executing: head -n 1 data/genomes/iwgsc_refseqv1.0_FunctionalAnnotation_v1__HCgenes_v1.0.TAB > data/genomes/t1.csv\n",
      "Result: stdout: b'' - stderr: b''\n",
      "----------\n",
      "----------\n",
      "Executing: grep -i 'Alpha-gliadin' data/genomes/iwgsc_refseqv1.0_FunctionalAnnotation_v1__HCgenes_v1.0.TAB > data/genomes/t2.csv\n",
      "Result: stdout: b'' - stderr: b''\n",
      "----------\n",
      "----------\n",
      "Executing: cat data/genomes/t1.csv data/genomes/t2.csv > data/genomes/alpha_gliadins.functional.csv\n",
      "Result: stdout: b'' - stderr: b''\n",
      "----------\n"
     ]
    },
    {
     "data": {
      "text/plain": [
       "(b'', b'')"
      ]
     },
     "execution_count": 38,
     "metadata": {},
     "output_type": "execute_result"
    }
   ],
   "source": [
    "cmd = \"head -n 1 %s > %s\" % (functional_annotation, temp_1)\n",
    "sys(cmd)\n",
    "cmd = \"grep -i 'Alpha-gliadin' %s > %s\" % (functional_annotation, temp_2)\n",
    "sys(cmd)\n",
    "cmd = \"cat %s %s > %s\" % (temp_1, temp_2, functional_annotation_filtered)\n",
    "sys(cmd)\n"
   ]
  },
  {
   "cell_type": "code",
   "execution_count": 44,
   "metadata": {},
   "outputs": [
    {
     "name": "stdout",
     "output_type": "stream",
     "text": [
      "26\n"
     ]
    },
    {
     "data": {
      "text/html": [
       "<div>\n",
       "<style scoped>\n",
       "    .dataframe tbody tr th:only-of-type {\n",
       "        vertical-align: middle;\n",
       "    }\n",
       "\n",
       "    .dataframe tbody tr th {\n",
       "        vertical-align: top;\n",
       "    }\n",
       "\n",
       "    .dataframe thead th {\n",
       "        text-align: right;\n",
       "    }\n",
       "</style>\n",
       "<table border=\"1\" class=\"dataframe\">\n",
       "  <thead>\n",
       "    <tr style=\"text-align: right;\">\n",
       "      <th></th>\n",
       "      <th>Gene-ID</th>\n",
       "      <th>is_repr</th>\n",
       "      <th>AHRD-Quality-Code</th>\n",
       "      <th>Blast-Hit-Accession</th>\n",
       "      <th>Human-Readable-Description</th>\n",
       "      <th>Pfam-IDs-(Description)</th>\n",
       "      <th>Interpro-IDs-(Description)</th>\n",
       "      <th>GO-IDs-(Description)-via-Interpro</th>\n",
       "      <th>Gene-or-TE-TE?-U (via-function)</th>\n",
       "      <th>Pfam-IDs</th>\n",
       "      <th>Interpro-IDs</th>\n",
       "      <th>GO-IDs-via-Interpro</th>\n",
       "    </tr>\n",
       "  </thead>\n",
       "  <tbody>\n",
       "    <tr>\n",
       "      <th>0</th>\n",
       "      <td>TraesCS6A02G048900.1</td>\n",
       "      <td>1</td>\n",
       "      <td>*-*</td>\n",
       "      <td>tr|A0A0E3UQY3|A0A0E3UQY3_AEGSE</td>\n",
       "      <td>Alpha-gliadin</td>\n",
       "      <td>PF00234: Protease inhibitor/seed storage/LTP f...</td>\n",
       "      <td>IPR001954: Gliadin/LMW glutenin; IPR016140: Bi...</td>\n",
       "      <td>GO:0045735 MF: nutrient reservoir activity</td>\n",
       "      <td>G</td>\n",
       "      <td>PF00234</td>\n",
       "      <td>IPR001954; IPR016140</td>\n",
       "      <td>GO:0045735</td>\n",
       "    </tr>\n",
       "    <tr>\n",
       "      <th>1</th>\n",
       "      <td>TraesCS6A02G049100.1</td>\n",
       "      <td>1</td>\n",
       "      <td>***</td>\n",
       "      <td>tr|A0A0E3Z6W2|A0A0E3Z6W2_9POAL</td>\n",
       "      <td>Alpha-gliadin</td>\n",
       "      <td>PF00234: Protease inhibitor/seed storage/LTP f...</td>\n",
       "      <td>IPR001954: Gliadin/LMW glutenin; IPR016140: Bi...</td>\n",
       "      <td>GO:0045735 MF: nutrient reservoir activity</td>\n",
       "      <td>G</td>\n",
       "      <td>PF00234</td>\n",
       "      <td>IPR001954; IPR016140</td>\n",
       "      <td>GO:0045735</td>\n",
       "    </tr>\n",
       "  </tbody>\n",
       "</table>\n",
       "</div>"
      ],
      "text/plain": [
       "                Gene-ID  is_repr AHRD-Quality-Code  \\\n",
       "0  TraesCS6A02G048900.1        1               *-*   \n",
       "1  TraesCS6A02G049100.1        1               ***   \n",
       "\n",
       "              Blast-Hit-Accession Human-Readable-Description  \\\n",
       "0  tr|A0A0E3UQY3|A0A0E3UQY3_AEGSE              Alpha-gliadin   \n",
       "1  tr|A0A0E3Z6W2|A0A0E3Z6W2_9POAL              Alpha-gliadin   \n",
       "\n",
       "                              Pfam-IDs-(Description)  \\\n",
       "0  PF00234: Protease inhibitor/seed storage/LTP f...   \n",
       "1  PF00234: Protease inhibitor/seed storage/LTP f...   \n",
       "\n",
       "                          Interpro-IDs-(Description)  \\\n",
       "0  IPR001954: Gliadin/LMW glutenin; IPR016140: Bi...   \n",
       "1  IPR001954: Gliadin/LMW glutenin; IPR016140: Bi...   \n",
       "\n",
       "            GO-IDs-(Description)-via-Interpro Gene-or-TE-TE?-U (via-function)  \\\n",
       "0  GO:0045735 MF: nutrient reservoir activity                               G   \n",
       "1  GO:0045735 MF: nutrient reservoir activity                               G   \n",
       "\n",
       "  Pfam-IDs          Interpro-IDs GO-IDs-via-Interpro  \n",
       "0  PF00234  IPR001954; IPR016140          GO:0045735  \n",
       "1  PF00234  IPR001954; IPR016140          GO:0045735  "
      ]
     },
     "execution_count": 44,
     "metadata": {},
     "output_type": "execute_result"
    }
   ],
   "source": [
    "\n",
    "df_func_ann = pd.read_csv(functional_annotation_filtered, sep=\"\\t\")\n",
    "df_func_ann['Gene-ID'] = df_func_ann['Gene-ID'].replace(\"01G\", \"02G\",regex = True)\n",
    "print(len(df_func_ann.index))\n",
    "df_func_ann.head(2)"
   ]
  },
  {
   "cell_type": "code",
   "execution_count": 53,
   "metadata": {},
   "outputs": [
    {
     "name": "stdout",
     "output_type": "stream",
     "text": [
      "1957722\n",
      "133744\n"
     ]
    },
    {
     "data": {
      "text/html": [
       "<div>\n",
       "<style scoped>\n",
       "    .dataframe tbody tr th:only-of-type {\n",
       "        vertical-align: middle;\n",
       "    }\n",
       "\n",
       "    .dataframe tbody tr th {\n",
       "        vertical-align: top;\n",
       "    }\n",
       "\n",
       "    .dataframe thead th {\n",
       "        text-align: right;\n",
       "    }\n",
       "</style>\n",
       "<table border=\"1\" class=\"dataframe\">\n",
       "  <thead>\n",
       "    <tr style=\"text-align: right;\">\n",
       "      <th></th>\n",
       "      <th>seqname</th>\n",
       "      <th>source</th>\n",
       "      <th>feature</th>\n",
       "      <th>start</th>\n",
       "      <th>end</th>\n",
       "      <th>score</th>\n",
       "      <th>strand</th>\n",
       "      <th>frame</th>\n",
       "      <th>attribute</th>\n",
       "      <th>transcript</th>\n",
       "    </tr>\n",
       "  </thead>\n",
       "  <tbody>\n",
       "    <tr>\n",
       "      <th>34</th>\n",
       "      <td>1A</td>\n",
       "      <td>IWGSC</td>\n",
       "      <td>mRNA</td>\n",
       "      <td>40098</td>\n",
       "      <td>70338</td>\n",
       "      <td>.</td>\n",
       "      <td>-</td>\n",
       "      <td>.</td>\n",
       "      <td>ID=transcript:TraesCS1A02G000100.1;Parent=gene...</td>\n",
       "      <td>TraesCS1A02G000100.1</td>\n",
       "    </tr>\n",
       "    <tr>\n",
       "      <th>65</th>\n",
       "      <td>1A</td>\n",
       "      <td>IWGSC</td>\n",
       "      <td>mRNA</td>\n",
       "      <td>70239</td>\n",
       "      <td>89245</td>\n",
       "      <td>.</td>\n",
       "      <td>+</td>\n",
       "      <td>.</td>\n",
       "      <td>ID=transcript:TraesCS1A02G000200.1;Parent=gene...</td>\n",
       "      <td>TraesCS1A02G000200.1</td>\n",
       "    </tr>\n",
       "  </tbody>\n",
       "</table>\n",
       "</div>"
      ],
      "text/plain": [
       "   seqname source feature  start    end score strand frame  \\\n",
       "34      1A  IWGSC    mRNA  40098  70338     .      -     .   \n",
       "65      1A  IWGSC    mRNA  70239  89245     .      +     .   \n",
       "\n",
       "                                            attribute            transcript  \n",
       "34  ID=transcript:TraesCS1A02G000100.1;Parent=gene...  TraesCS1A02G000100.1  \n",
       "65  ID=transcript:TraesCS1A02G000200.1;Parent=gene...  TraesCS1A02G000200.1  "
      ]
     },
     "execution_count": 53,
     "metadata": {},
     "output_type": "execute_result"
    }
   ],
   "source": [
    "#read and accomodate gff\n",
    "df_gff = read_gff(annotation)\n",
    "print(len(df_gff.index))\n",
    "df_gff = df_gff[df_gff.feature=='mRNA']\n",
    "print(len(df_gff.index))\n",
    "df_gff['transcript'] = df_gff['attribute'].str.split('transcript:').str[1]\n",
    "df_gff['transcript'] = df_gff['transcript'].str.split(';').str[0]\n",
    "df_gff.head(2)"
   ]
  },
  {
   "cell_type": "code",
   "execution_count": 56,
   "metadata": {},
   "outputs": [
    {
     "name": "stdout",
     "output_type": "stream",
     "text": [
      "26\n"
     ]
    },
    {
     "data": {
      "text/html": [
       "<div>\n",
       "<style scoped>\n",
       "    .dataframe tbody tr th:only-of-type {\n",
       "        vertical-align: middle;\n",
       "    }\n",
       "\n",
       "    .dataframe tbody tr th {\n",
       "        vertical-align: top;\n",
       "    }\n",
       "\n",
       "    .dataframe thead th {\n",
       "        text-align: right;\n",
       "    }\n",
       "</style>\n",
       "<table border=\"1\" class=\"dataframe\">\n",
       "  <thead>\n",
       "    <tr style=\"text-align: right;\">\n",
       "      <th></th>\n",
       "      <th>seqname</th>\n",
       "      <th>source</th>\n",
       "      <th>feature</th>\n",
       "      <th>start</th>\n",
       "      <th>end</th>\n",
       "      <th>score</th>\n",
       "      <th>strand</th>\n",
       "      <th>frame</th>\n",
       "      <th>attribute</th>\n",
       "      <th>transcript</th>\n",
       "    </tr>\n",
       "  </thead>\n",
       "  <tbody>\n",
       "    <tr>\n",
       "      <th>1421508</th>\n",
       "      <td>6A</td>\n",
       "      <td>IWGSC</td>\n",
       "      <td>mRNA</td>\n",
       "      <td>24921651</td>\n",
       "      <td>24922607</td>\n",
       "      <td>.</td>\n",
       "      <td>+</td>\n",
       "      <td>.</td>\n",
       "      <td>ID=transcript:TraesCS6A02G048900.1;Parent=gene...</td>\n",
       "      <td>TraesCS6A02G048900.1</td>\n",
       "    </tr>\n",
       "    <tr>\n",
       "      <th>1421531</th>\n",
       "      <td>6A</td>\n",
       "      <td>IWGSC</td>\n",
       "      <td>mRNA</td>\n",
       "      <td>25107550</td>\n",
       "      <td>25108401</td>\n",
       "      <td>.</td>\n",
       "      <td>+</td>\n",
       "      <td>.</td>\n",
       "      <td>ID=transcript:TraesCS6A02G049100.1;Parent=gene...</td>\n",
       "      <td>TraesCS6A02G049100.1</td>\n",
       "    </tr>\n",
       "  </tbody>\n",
       "</table>\n",
       "</div>"
      ],
      "text/plain": [
       "        seqname source feature     start       end score strand frame  \\\n",
       "1421508      6A  IWGSC    mRNA  24921651  24922607     .      +     .   \n",
       "1421531      6A  IWGSC    mRNA  25107550  25108401     .      +     .   \n",
       "\n",
       "                                                 attribute  \\\n",
       "1421508  ID=transcript:TraesCS6A02G048900.1;Parent=gene...   \n",
       "1421531  ID=transcript:TraesCS6A02G049100.1;Parent=gene...   \n",
       "\n",
       "                   transcript  \n",
       "1421508  TraesCS6A02G048900.1  \n",
       "1421531  TraesCS6A02G049100.1  "
      ]
     },
     "execution_count": 56,
     "metadata": {},
     "output_type": "execute_result"
    }
   ],
   "source": [
    "#filter gff gliadins\n",
    "gliadins_transcripts = df_func_ann['Gene-ID'].tolist()\n",
    "df_gff = df_gff[df_gff['transcript'].isin(gliadins_transcripts)]\n",
    "print(len(df_gff.index))\n",
    "df_gff.head(2)"
   ]
  },
  {
   "cell_type": "code",
   "execution_count": null,
   "metadata": {},
   "outputs": [],
   "source": []
  },
  {
   "cell_type": "code",
   "execution_count": null,
   "metadata": {},
   "outputs": [],
   "source": []
  },
  {
   "cell_type": "code",
   "execution_count": 54,
   "metadata": {},
   "outputs": [],
   "source": [
    "#get transcripts\n",
    "#filter transcripts by  df['Gene-ID'] modified\n",
    "#extract fasta"
   ]
  },
  {
   "cell_type": "code",
   "execution_count": null,
   "metadata": {},
   "outputs": [],
   "source": []
  },
  {
   "cell_type": "code",
   "execution_count": null,
   "metadata": {},
   "outputs": [],
   "source": []
  },
  {
   "cell_type": "code",
   "execution_count": null,
   "metadata": {},
   "outputs": [],
   "source": []
  },
  {
   "cell_type": "code",
   "execution_count": null,
   "metadata": {},
   "outputs": [],
   "source": []
  },
  {
   "cell_type": "code",
   "execution_count": null,
   "metadata": {},
   "outputs": [],
   "source": []
  }
 ],
 "metadata": {
  "kernelspec": {
   "display_name": "Python 3",
   "language": "python",
   "name": "python3"
  },
  "language_info": {
   "codemirror_mode": {
    "name": "ipython",
    "version": 3
   },
   "file_extension": ".py",
   "mimetype": "text/x-python",
   "name": "python",
   "nbconvert_exporter": "python",
   "pygments_lexer": "ipython3",
   "version": "3.6.5"
  }
 },
 "nbformat": 4,
 "nbformat_minor": 2
}
