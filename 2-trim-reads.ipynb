{
 "cells": [
  {
   "cell_type": "code",
   "execution_count": 68,
   "metadata": {},
   "outputs": [],
   "source": [
    "#!/usr/bin/env python\n",
    "# -*- coding: utf-8 -*-\n",
    "import pandas as pd\n",
    "from Bio import SeqIO\n",
    "from Bio.SeqRecord import SeqRecord\n",
    "import shlex\n",
    "from Bio.Seq import Seq\n",
    "import subprocess\n",
    "import os\n"
   ]
  },
  {
   "cell_type": "code",
   "execution_count": null,
   "metadata": {},
   "outputs": [],
   "source": []
  },
  {
   "cell_type": "code",
   "execution_count": 69,
   "metadata": {},
   "outputs": [],
   "source": [
    "def read_gff(path):\n",
    "    df = pd.read_csv(path, index_col=False, sep='\\t', header=None, comment=\"#\")\n",
    "    df.columns = ['seqname', 'source', 'feature', 'start', 'end', 'score', 'strand', 'frame', 'attribute']\n",
    "    return df\n",
    "\n",
    "def sys(command):\n",
    "    \"\"\"\n",
    "    \"\"\"\n",
    "    print(\"-\" * 10)\n",
    "    print(\"Executing: %s\" % command)\n",
    "    process = subprocess.Popen(shlex.split(command),stdout=subprocess.PIPE,stderr=subprocess.PIPE, cwd=\"/home/juan/Desktop/juan/bio/gliadinas/\")\n",
    "    stdout, stderr = process.communicate()\n",
    "    #print(\"Result: stdout: %s - stderr: %s\" % (stdout, stderr))\n",
    "    #print(\"-\" * 10)\n",
    "    if stderr:\n",
    "        print(stderr)\n",
    "    return stdout, stderr\n",
    "\n",
    "\n",
    "\n",
    "def gff2FA(df_gff, path_sequence, windows, output):\n",
    "    \"\"\"Extract fasta files from annotations\n",
    "    \"\"\"\n",
    "    fasta_seq = SeqIO.parse(path_genome, 'fasta')\n",
    "    buffer_seqs = []\n",
    "    cont = 0\n",
    "    for record in fasta_seq:\n",
    "        print(record.id)\n",
    "        dff_extract = df_gff[df_gff.seqname == record.id]\n",
    "        for key,val in dff_extract.iterrows():\n",
    "            clean_seq = ''.join(str(record.seq).splitlines())\n",
    "            if int(val.start) - windows < 0:\n",
    "                start = 0\n",
    "            else:\n",
    "                start = int(val.start) - windows\n",
    "            if int(val.end) + windows > len(clean_seq):\n",
    "                end = len(clean_seq)\n",
    "            else:\n",
    "                end = int(val.end) + windows\n",
    "            new_seq = clean_seq[start:end]\n",
    "            att = val.attribute\n",
    "            id = record.id + '_' + str(start) + '_' + str(end)\n",
    "            desc = \"seq_id:\" + str(record.id)\n",
    "            desc += \" feature_start:\" + str(val.start)\n",
    "            desc += \" feature_end:\" + str(val.end)\n",
    "            desc += \" genome_start:\" + str(start)\n",
    "            desc += \" genome_end:\" + str(end)\n",
    "            desc += \" feature:\" + str(val.feature)\n",
    "            desc += \" attributes:\" + val.attribute\n",
    "            seq = SeqRecord(Seq(new_seq), id=id, description=desc)\n",
    "            buffer_seqs.append(seq)\n",
    "            cont += 1\n",
    "    SeqIO.write(buffer_seqs, output, \"fasta\")\n",
    "    return buffer_seqs\n"
   ]
  },
  {
   "cell_type": "code",
   "execution_count": 70,
   "metadata": {},
   "outputs": [],
   "source": [
    "adapters = \"data/adapters_new_rc.fa\"\n",
    "path_output_dir = \"data/clean/\"\n",
    "path_spades = \"sw/SPAdes-3.13.0-Linux/bin/spades\"\n",
    "path_cutadapt = \"sw/cutadapt-2.7/\"\n",
    "path_fastqc = \"sw/FastQC/\"\n",
    "adapter_f = \"AATGATACGGCGACCACCGAGATCTACAC\"\n",
    "adapter_r = \"CAAGCAGAAGACGGCATACGAGAT\""
   ]
  },
  {
   "cell_type": "code",
   "execution_count": 71,
   "metadata": {},
   "outputs": [
    {
     "name": "stdout",
     "output_type": "stream",
     "text": [
      "----------\n",
      "Executing: pwd\n"
     ]
    },
    {
     "data": {
      "text/plain": [
       "(b'/home/juan/Desktop/juan/bio/gliadinas\\n', b'')"
      ]
     },
     "execution_count": 71,
     "metadata": {},
     "output_type": "execute_result"
    }
   ],
   "source": [
    "sys(\"pwd\")"
   ]
  },
  {
   "cell_type": "code",
   "execution_count": 73,
   "metadata": {},
   "outputs": [
    {
     "name": "stdout",
     "output_type": "stream",
     "text": [
      "----------\n",
      "Executing: sw/TrimGalore-0.6.5/trim_galore --fastqc --paired data/reads/sar434-2019_S86_L001_R1_001.fastq.gz data/reads/sar434-2019_S86_L001_R2_001.fastq.gz --output_dir data/clean/ -a AATGATACGGCGACCACCGAGATCTACAC -a CAAGCAGAAGACGGCATACGAGAT\n",
      "b\"Multicore support not enabled. Proceeding with single-core trimming.\\nPath to Cutadapt set as: 'cutadapt' (default)\\nCutadapt seems to be working fine (tested command 'cutadapt --version')\\nCutadapt version: 1.15\\nsingle-core operation.\\nNo quality encoding type selected. Assuming that the data provided uses Sanger encoded Phred scores (default)\\n\\nOutput will be written into the directory: /home/juan/Desktop/juan/bio/gliadinas/data/clean/\\nWriting report to '/home/juan/Desktop/juan/bio/gliadinas/data/clean/sar434-2019_S86_L001_R1_001.fastq.gz_trimming_report.txt'\\n\\nSUMMARISING RUN PARAMETERS\\n==========================\\nInput filename: data/reads/sar434-2019_S86_L001_R1_001.fastq.gz\\nTrimming mode: paired-end\\nTrim Galore version: 0.6.4_dev\\nCutadapt version: 1.15\\nNumber of cores used for trimming: 1\\nQuality Phred score cutoff: 20\\nQuality encoding type selected: ASCII+33\\nAdapter sequence: 'CAAGCAGAAGACGGCATACGAGAT' (user defined)\\nMaximum trimming error rate: 0.1 (default)\\nMinimum required adapter overlap (stringency): 1 bp\\nMinimum required sequence length for both reads before a sequence pair gets removed: 20 bp\\nRunning FastQC on the data once trimming has completed\\nOutput file(s) will be GZIP compressed\\n\\nCutadapt seems to be reasonably up-to-date. Setting -j 1\\nWriting final adapter and quality trimmed output to sar434-2019_S86_L001_R1_001_trimmed.fq.gz\\n\\n\\n  >>> Now performing quality (cutoff '-q 20') and adapter trimming in a single pass for the adapter sequence: 'CAAGCAGAAGACGGCATACGAGAT' from file data/reads/sar434-2019_S86_L001_R1_001.fastq.gz <<< \\nThis is cutadapt 1.15 with Python 3.6.8\\nCommand line parameters: -j 1 -e 0.1 -q 20 -O 1 -a CAAGCAGAAGACGGCATACGAGAT data/reads/sar434-2019_S86_L001_R1_001.fastq.gz\\nRunning on 1 core\\nTrimming 1 adapter with at most 10.0% errors in single-end mode ...\\nFinished in 0.02 s (33 us/read; 1.83 M reads/minute).\\n\\n=== Summary ===\\n\\nTotal reads processed:                     736\\nReads with adapters:                       594 (80.7%)\\nReads written (passing filters):           736 (100.0%)\\n\\nTotal basepairs processed:       184,736 bp\\nQuality-trimmed:                  16,646 bp (9.0%)\\nTotal written (filtered):        167,205 bp (90.5%)\\n\\n=== Adapter 1 ===\\n\\nSequence: CAAGCAGAAGACGGCATACGAGAT; Type: regular 3'; Length: 24; Trimmed: 594 times.\\n\\nNo. of allowed errors:\\n0-9 bp: 0; 10-19 bp: 1; 20-24 bp: 2\\n\\nBases preceding removed adapters:\\n  A: 34.5%\\n  C: 20.5%\\n  G: 41.1%\\n  T: 3.9%\\n  none/other: 0.0%\\n\\nOverview of removed sequences\\nlength\\tcount\\texpect\\tmax.err\\terror counts\\n1\\t313\\t184.0\\t0\\t313\\n2\\t272\\t46.0\\t0\\t272\\n3\\t8\\t11.5\\t0\\t8\\n4\\t1\\t2.9\\t0\\t1\\n\\n\\nRUN STATISTICS FOR INPUT FILE: data/reads/sar434-2019_S86_L001_R1_001.fastq.gz\\n=============================================\\n736 sequences processed in total\\nThe length threshold of paired-end sequences gets evaluated later on (in the validation step)\\n\\nWriting report to '/home/juan/Desktop/juan/bio/gliadinas/data/clean/sar434-2019_S86_L001_R2_001.fastq.gz_trimming_report.txt'\\n\\nSUMMARISING RUN PARAMETERS\\n==========================\\nInput filename: data/reads/sar434-2019_S86_L001_R2_001.fastq.gz\\nTrimming mode: paired-end\\nTrim Galore version: 0.6.4_dev\\nCutadapt version: 1.15\\nNumber of cores used for trimming: 1\\nQuality Phred score cutoff: 20\\nQuality encoding type selected: ASCII+33\\nAdapter sequence: 'CAAGCAGAAGACGGCATACGAGAT' (user defined)\\nMaximum trimming error rate: 0.1 (default)\\nMinimum required adapter overlap (stringency): 1 bp\\nMinimum required sequence length for both reads before a sequence pair gets removed: 20 bp\\nRunning FastQC on the data once trimming has completed\\nOutput file(s) will be GZIP compressed\\n\\nCutadapt seems to be reasonably up-to-date. Setting -j -j 1\\nWriting final adapter and quality trimmed output to sar434-2019_S86_L001_R2_001_trimmed.fq.gz\\n\\n\\n  >>> Now performing quality (cutoff '-q 20') and adapter trimming in a single pass for the adapter sequence: 'CAAGCAGAAGACGGCATACGAGAT' from file data/reads/sar434-2019_S86_L001_R2_001.fastq.gz <<< \\nThis is cutadapt 1.15 with Python 3.6.8\\nCommand line parameters: -j 1 -e 0.1 -q 20 -O 1 -a CAAGCAGAAGACGGCATACGAGAT data/reads/sar434-2019_S86_L001_R2_001.fastq.gz\\nRunning on 1 core\\nTrimming 1 adapter with at most 10.0% errors in single-end mode ...\\nFinished in 0.02 s (27 us/read; 2.19 M reads/minute).\\n\\n=== Summary ===\\n\\nTotal reads processed:                     736\\nReads with adapters:                        40 (5.4%)\\nReads written (passing filters):           736 (100.0%)\\n\\nTotal basepairs processed:       184,736 bp\\nQuality-trimmed:                  27,408 bp (14.8%)\\nTotal written (filtered):        157,283 bp (85.1%)\\n\\n=== Adapter 1 ===\\n\\nSequence: CAAGCAGAAGACGGCATACGAGAT; Type: regular 3'; Length: 24; Trimmed: 40 times.\\n\\nNo. of allowed errors:\\n0-9 bp: 0; 10-19 bp: 1; 20-24 bp: 2\\n\\nBases preceding removed adapters:\\n  A: 22.5%\\n  C: 27.5%\\n  G: 32.5%\\n  T: 17.5%\\n  none/other: 0.0%\\n\\nOverview of removed sequences\\nlength\\tcount\\texpect\\tmax.err\\terror counts\\n1\\t36\\t184.0\\t0\\t36\\n2\\t3\\t46.0\\t0\\t3\\n3\\t1\\t11.5\\t0\\t1\\n\\n\\nRUN STATISTICS FOR INPUT FILE: data/reads/sar434-2019_S86_L001_R2_001.fastq.gz\\n=============================================\\n736 sequences processed in total\\nThe length threshold of paired-end sequences gets evaluated later on (in the validation step)\\n\\nValidate paired-end files sar434-2019_S86_L001_R1_001_trimmed.fq.gz and sar434-2019_S86_L001_R2_001_trimmed.fq.gz\\nfile_1: sar434-2019_S86_L001_R1_001_trimmed.fq.gz, file_2: sar434-2019_S86_L001_R2_001_trimmed.fq.gz\\n\\n\\n>>>>> Now validing the length of the 2 paired-end infiles: sar434-2019_S86_L001_R1_001_trimmed.fq.gz and sar434-2019_S86_L001_R2_001_trimmed.fq.gz <<<<<\\nWriting validated paired-end Read 1 reads to sar434-2019_S86_L001_R1_001_val_1.fq.gz\\nWriting validated paired-end Read 2 reads to sar434-2019_S86_L001_R2_001_val_2.fq.gz\\n\\nTotal number of sequences analysed: 736\\n\\nNumber of sequence pairs removed because at least one read was shorter than the length cutoff (20 bp): 45 (6.11%)\\n\\n\\n  >>> Now running FastQC on the validated data sar434-2019_S86_L001_R1_001_val_1.fq.gz<<<\\n\\nStarted analysis of sar434-2019_S86_L001_R1_001_val_1.fq.gz\\n\\n  >>> Now running FastQC on the validated data sar434-2019_S86_L001_R2_001_val_2.fq.gz<<<\\n\\nStarted analysis of sar434-2019_S86_L001_R2_001_val_2.fq.gz\\nDeleting both intermediate output files sar434-2019_S86_L001_R1_001_trimmed.fq.gz and sar434-2019_S86_L001_R2_001_trimmed.fq.gz\\n\\n====================================================================================================\\n\\n\"\n"
     ]
    }
   ],
   "source": [
    "s = 86\n",
    "for i in range(434, 536):\n",
    "    sample_1 = \"data/reads/sar{}-2019_S{}_L001_R1_001.fastq.gz\".format(i,s)\n",
    "    sample_2 = \"data/reads/sar{}-2019_S{}_L001_R2_001.fastq.gz\".format(i,s)\n",
    "    cmd = \"sw/TrimGalore-0.6.5/trim_galore --fastqc --paired {} {} --output_dir {} -a {} -a {}\"\n",
    "    cmd = cmd.format(sample_1, sample_2, path_output_dir, adapter_f, adapter_r)\n",
    "    out, err = sys(cmd)\n",
    "    if err:\n",
    "        break\n"
   ]
  },
  {
   "cell_type": "code",
   "execution_count": null,
   "metadata": {},
   "outputs": [],
   "source": []
  },
  {
   "cell_type": "code",
   "execution_count": null,
   "metadata": {},
   "outputs": [],
   "source": [
    "#!/usr/bin/env bds\n",
    "\n",
    "string adapters = \"data/adapters_new_rc.fa\"\n",
    "\n",
    "\n",
    "sys export PATH=$PATH:$PWD/sw/SPAdes-3.13.0-Linux/bin\n",
    "sys export PATH=$PATH:$PWD/sw/.bds\n",
    "sys export PATH=$PATH:$PWD/sw/cutadapt-2.7\n",
    "sys export PATH=$PATH:$PWD/sw/FastQC\n",
    "\n",
    "sys rm -r data/clean_1/*\n",
    "sys rm -r data/clean_2/*\n",
    "sys rm -r data/clean_3/*\n",
    "sys rm -r data/assembly/*\n",
    "\n",
    "int s = 86\n",
    "for( int i=434 ; i <= 535 ; i++ ) {\n",
    "\n",
    "    string sample_1_1 = \"data/reads/sar\"+i+\"-2019_S\"+s+\"_L001_R1_001.fastq.gz\"\n",
    "    string sample_2_1 = \"data/reads/sar\"+i+\"-2019_S\"+s+\"_L001_R2_001.fastq.gz\"\n",
    "    try{\n",
    "        sys sw/TrimGalore-0.6.5/trim_galore --paired $sample_1_1 $sample_2_1 --output_dir data/clean_1/\n",
    "    }catch (Exception e){\n",
    "        print \"error in $sample_1_1 $sample_2_1\\n\"\n",
    "    }\n",
    "    \n",
    "\n",
    "    string sample_1_2 = \"data/clean_1/sar\"+i+\"-2019_S\"+s+\"_L001_R1_001_val_1.fq.gz\"\n",
    "    string sample_2_2 = \"data/clean_1/sar\"+i+\"-2019_S\"+s+\"_L001_R2_001_val_2.fq.gz\"\n",
    "    try{\n",
    "        sys sw/TrimGalore-0.6.5/trim_galore --fastqc --paired $sample_1_2 $sample_2_2 --output_dir data/clean_2/ -a AATGATACGGCGACCACCGAGATCTACAC -a CAAGCAGAAGACGGCATACGAGAT\n",
    "    }catch (Exception e){\n",
    "        print \"error in $sample_1_2 $sample_2_2\\n\"\n",
    "    }\n",
    "\n",
    "    string sample_1_3 = \"data/clean_2/sar\"+i+\"-2019_S\"+s+\"_L001_R1_001_val_1_val_1.fq.gz\"\n",
    "    string sample_2_3 = \"data/clean_2/sar\"+i+\"-2019_S\"+s+\"_L001_R2_001_val_2_val_2.fq.gz\"\n",
    "    try{\n",
    "        sys sw/TrimGalore-0.6.5/trim_galore --fastqc --paired $sample_1_3 $sample_2_3 --output_dir data/clean_3/ -a GTGTAGATCTCGGTGGTCGCCGTATCATT -a ATCTCGTATGCCGTCTTCTGCTTG\n",
    "    }catch (Exception e){\n",
    "        print \"error in $sample_1_3 $sample_2_3\\n\"\n",
    "    }\n",
    "\n",
    "    string sample_1 = \"data/clean_3/sar\"+i+\"-2019_S\"+s+\"_L001_R1_001_val_1_val_1_val_1.fq.gz\"\n",
    "    string sample_2 = \"data/clean_3/sar\"+i+\"-2019_S\"+s+\"_L001_R2_001_val_2_val_2_val_2.fq.gz\"\n",
    "    string sample_out = \"data/assembly/sar\" + i + \"-2019_S\" + s + \"/\"\n",
    "    \n",
    "    sys sw/SPAdes-3.13.0-Linux/bin/spades.py --careful -1 $sample_1_3 -2 $sample_2_3 -o $sample_out\n",
    "\n",
    "    s = s + 1\n",
    "}\n"
   ]
  }
 ],
 "metadata": {
  "kernelspec": {
   "display_name": "Python 3",
   "language": "python",
   "name": "python3"
  },
  "language_info": {
   "codemirror_mode": {
    "name": "ipython",
    "version": 3
   },
   "file_extension": ".py",
   "mimetype": "text/x-python",
   "name": "python",
   "nbconvert_exporter": "python",
   "pygments_lexer": "ipython3",
   "version": "3.6.5"
  }
 },
 "nbformat": 4,
 "nbformat_minor": 2
}
