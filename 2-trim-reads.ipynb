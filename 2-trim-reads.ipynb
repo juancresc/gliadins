{
 "cells": [
  {
   "cell_type": "code",
   "execution_count": 1,
   "metadata": {},
   "outputs": [],
   "source": [
    "#!/usr/bin/env python\n",
    "# -*- coding: utf-8 -*-\n",
    "import pandas as pd\n",
    "from Bio import SeqIO\n",
    "from Bio.SeqRecord import SeqRecord\n",
    "from Bio.Seq import Seq\n",
    "import subprocess"
   ]
  },
  {
   "cell_type": "code",
   "execution_count": 12,
   "metadata": {},
   "outputs": [],
   "source": [
    "def read_gff(path):\n",
    "    df = pd.read_csv(path, index_col=False, sep='\\t', header=None, comment=\"#\")\n",
    "    df.columns = ['seqname', 'source', 'feature', 'start', 'end', 'score', 'strand', 'frame', 'attribute']\n",
    "    return df\n",
    "\n",
    "def sys(command):\n",
    "    \"\"\"\n",
    "    \"\"\"\n",
    "    print(\"-\" * 10)\n",
    "    print(\"Executing: %s\" % command)\n",
    "    process = subprocess.Popen(command,shell=True,stdout=subprocess.PIPE,stderr=subprocess.PIPE)\n",
    "    stdout, stderr = process.communicate()\n",
    "    #print(\"Result: stdout: %s - stderr: %s\" % (stdout, stderr))\n",
    "    #print(\"-\" * 10)\n",
    "    if stderr:\n",
    "        print(stderr)\n",
    "    return stdout, stderr\n",
    "\n",
    "\n",
    "\n",
    "def gff2FA(df_gff, path_sequence, windows, output):\n",
    "    \"\"\"Extract fasta files from annotations\n",
    "    \"\"\"\n",
    "    fasta_seq = SeqIO.parse(path_genome, 'fasta')\n",
    "    buffer_seqs = []\n",
    "    cont = 0\n",
    "    for record in fasta_seq:\n",
    "        print(record.id)\n",
    "        dff_extract = df_gff[df_gff.seqname == record.id]\n",
    "        for key,val in dff_extract.iterrows():\n",
    "            clean_seq = ''.join(str(record.seq).splitlines())\n",
    "            if int(val.start) - windows < 0:\n",
    "                start = 0\n",
    "            else:\n",
    "                start = int(val.start) - windows\n",
    "            if int(val.end) + windows > len(clean_seq):\n",
    "                end = len(clean_seq)\n",
    "            else:\n",
    "                end = int(val.end) + windows\n",
    "            new_seq = clean_seq[start:end]\n",
    "            att = val.attribute\n",
    "            id = record.id + '_' + str(start) + '_' + str(end)\n",
    "            desc = \"seq_id:\" + str(record.id)\n",
    "            desc += \" feature_start:\" + str(val.start)\n",
    "            desc += \" feature_end:\" + str(val.end)\n",
    "            desc += \" genome_start:\" + str(start)\n",
    "            desc += \" genome_end:\" + str(end)\n",
    "            desc += \" feature:\" + str(val.feature)\n",
    "            desc += \" attributes:\" + val.attribute\n",
    "            seq = SeqRecord(Seq(new_seq), id=id, description=desc)\n",
    "            buffer_seqs.append(seq)\n",
    "            cont += 1\n",
    "    SeqIO.write(buffer_seqs, output, \"fasta\")\n",
    "    return buffer_seqs\n"
   ]
  },
  {
   "cell_type": "code",
   "execution_count": 7,
   "metadata": {},
   "outputs": [],
   "source": [
    "adapters = \"data/adapters_new_rc.fa\"\n",
    "path_output_dir = \"data/clean/\"\n",
    "path_spades = \"sw/SPAdes-3.13.0-Linux/bin/spades\"\n",
    "path_cutadapt = \"sw/cutadapt-2.7/\"\n",
    "path_fastqc = \"sw/FastQC/\"\n",
    "adapter_f = \"AATGATACGGCGACCACCGAGATCTACAC\"\n",
    "adapter_r = \"CAAGCAGAAGACGGCATACGAGAT\""
   ]
  },
  {
   "cell_type": "code",
   "execution_count": 14,
   "metadata": {},
   "outputs": [
    {
     "name": "stdout",
     "output_type": "stream",
     "text": [
      "----------\n",
      "Executing: cd /home/juan/Desktop/juan/bio/gliadinas/\n",
      "----------\n",
      "Executing: export PATH=$PATH:$PWD/sw/FastQC\n",
      "----------\n",
      "Executing: export PATH=$PATH:$PWD/sw/cutadapt-2.7\n",
      "----------\n",
      "Executing: rm -r data/clean/*\n",
      "b\"rm: cannot remove 'data/clean/*': No such file or directory\\n\"\n"
     ]
    },
    {
     "data": {
      "text/plain": [
       "(b'', b\"rm: cannot remove 'data/clean/*': No such file or directory\\n\")"
      ]
     },
     "execution_count": 14,
     "metadata": {},
     "output_type": "execute_result"
    }
   ],
   "source": [
    "sys(\"cd /home/juan/Desktop/juan/bio/gliadinas/\")\n",
    "sys(\"export PATH=$PATH:$PWD/sw/FastQC\")\n",
    "sys(\"export PATH=$PATH:$PWD/sw/cutadapt-2.7\")\n",
    "sys(\"rm -r data/clean/*\")"
   ]
  },
  {
   "cell_type": "code",
   "execution_count": 15,
   "metadata": {},
   "outputs": [
    {
     "name": "stdout",
     "output_type": "stream",
     "text": [
      "----------\n",
      "Executing: sw/TrimGalore-0.6.5/trim_galore --fastqc --paired data/reads/sar434-2019_S86_L001_R1_001.fastq.gz data/reads/sar434-2019_S86_L001_R2_001.fastq.gz --output_dir data/clean/ -a AATGATACGGCGACCACCGAGATCTACAC -a CAAGCAGAAGACGGCATACGAGAT\n",
      "b'Multicore support not enabled. Proceeding with single-core trimming.\\nPath to Cutadapt set as: \\'cutadapt\\' (default)\\nCutadapt seems to be working fine (tested command \\'cutadapt --version\\')\\nCutadapt version: 1.15\\nsingle-core operation.\\nNo quality encoding type selected. Assuming that the data provided uses Sanger encoded Phred scores (default)\\n\\nOutput will be written into the directory: /home/juan/Desktop/juan/bio/gliadinas/data/clean/\\nWriting report to \\'/home/juan/Desktop/juan/bio/gliadinas/data/clean/sar434-2019_S86_L001_R1_001.fastq.gz_trimming_report.txt\\'\\n\\nSUMMARISING RUN PARAMETERS\\n==========================\\nInput filename: data/reads/sar434-2019_S86_L001_R1_001.fastq.gz\\nTrimming mode: paired-end\\nTrim Galore version: 0.6.4_dev\\nCutadapt version: 1.15\\nNumber of cores used for trimming: 1\\nQuality Phred score cutoff: 20\\nQuality encoding type selected: ASCII+33\\nAdapter sequence: \\'CAAGCAGAAGACGGCATACGAGAT\\' (user defined)\\nMaximum trimming error rate: 0.1 (default)\\nMinimum required adapter overlap (stringency): 1 bp\\nMinimum required sequence length for both reads before a sequence pair gets removed: 20 bp\\nRunning FastQC on the data once trimming has completed\\nOutput file(s) will be GZIP compressed\\n\\nCutadapt seems to be reasonably up-to-date. Setting -j 1\\nWriting final adapter and quality trimmed output to sar434-2019_S86_L001_R1_001_trimmed.fq.gz\\n\\n\\n  >>> Now performing quality (cutoff \\'-q 20\\') and adapter trimming in a single pass for the adapter sequence: \\'CAAGCAGAAGACGGCATACGAGAT\\' from file data/reads/sar434-2019_S86_L001_R1_001.fastq.gz <<< \\nThis is cutadapt 1.15 with Python 3.6.8\\nCommand line parameters: -j 1 -e 0.1 -q 20 -O 1 -a CAAGCAGAAGACGGCATACGAGAT data/reads/sar434-2019_S86_L001_R1_001.fastq.gz\\nRunning on 1 core\\nTrimming 1 adapter with at most 10.0% errors in single-end mode ...\\nFinished in 0.02 s (33 us/read; 1.82 M reads/minute).\\n\\n=== Summary ===\\n\\nTotal reads processed:                     736\\nReads with adapters:                       594 (80.7%)\\nReads written (passing filters):           736 (100.0%)\\n\\nTotal basepairs processed:       184,736 bp\\nQuality-trimmed:                  16,646 bp (9.0%)\\nTotal written (filtered):        167,205 bp (90.5%)\\n\\n=== Adapter 1 ===\\n\\nSequence: CAAGCAGAAGACGGCATACGAGAT; Type: regular 3\\'; Length: 24; Trimmed: 594 times.\\n\\nNo. of allowed errors:\\n0-9 bp: 0; 10-19 bp: 1; 20-24 bp: 2\\n\\nBases preceding removed adapters:\\n  A: 34.5%\\n  C: 20.5%\\n  G: 41.1%\\n  T: 3.9%\\n  none/other: 0.0%\\n\\nOverview of removed sequences\\nlength\\tcount\\texpect\\tmax.err\\terror counts\\n1\\t313\\t184.0\\t0\\t313\\n2\\t272\\t46.0\\t0\\t272\\n3\\t8\\t11.5\\t0\\t8\\n4\\t1\\t2.9\\t0\\t1\\n\\n\\nRUN STATISTICS FOR INPUT FILE: data/reads/sar434-2019_S86_L001_R1_001.fastq.gz\\n=============================================\\n736 sequences processed in total\\nThe length threshold of paired-end sequences gets evaluated later on (in the validation step)\\n\\nWriting report to \\'/home/juan/Desktop/juan/bio/gliadinas/data/clean/sar434-2019_S86_L001_R2_001.fastq.gz_trimming_report.txt\\'\\n\\nSUMMARISING RUN PARAMETERS\\n==========================\\nInput filename: data/reads/sar434-2019_S86_L001_R2_001.fastq.gz\\nTrimming mode: paired-end\\nTrim Galore version: 0.6.4_dev\\nCutadapt version: 1.15\\nNumber of cores used for trimming: 1\\nQuality Phred score cutoff: 20\\nQuality encoding type selected: ASCII+33\\nAdapter sequence: \\'CAAGCAGAAGACGGCATACGAGAT\\' (user defined)\\nMaximum trimming error rate: 0.1 (default)\\nMinimum required adapter overlap (stringency): 1 bp\\nMinimum required sequence length for both reads before a sequence pair gets removed: 20 bp\\nRunning FastQC on the data once trimming has completed\\nOutput file(s) will be GZIP compressed\\n\\nCutadapt seems to be reasonably up-to-date. Setting -j -j 1\\nWriting final adapter and quality trimmed output to sar434-2019_S86_L001_R2_001_trimmed.fq.gz\\n\\n\\n  >>> Now performing quality (cutoff \\'-q 20\\') and adapter trimming in a single pass for the adapter sequence: \\'CAAGCAGAAGACGGCATACGAGAT\\' from file data/reads/sar434-2019_S86_L001_R2_001.fastq.gz <<< \\nThis is cutadapt 1.15 with Python 3.6.8\\nCommand line parameters: -j 1 -e 0.1 -q 20 -O 1 -a CAAGCAGAAGACGGCATACGAGAT data/reads/sar434-2019_S86_L001_R2_001.fastq.gz\\nRunning on 1 core\\nTrimming 1 adapter with at most 10.0% errors in single-end mode ...\\nFinished in 0.02 s (25 us/read; 2.38 M reads/minute).\\n\\n=== Summary ===\\n\\nTotal reads processed:                     736\\nReads with adapters:                        40 (5.4%)\\nReads written (passing filters):           736 (100.0%)\\n\\nTotal basepairs processed:       184,736 bp\\nQuality-trimmed:                  27,408 bp (14.8%)\\nTotal written (filtered):        157,283 bp (85.1%)\\n\\n=== Adapter 1 ===\\n\\nSequence: CAAGCAGAAGACGGCATACGAGAT; Type: regular 3\\'; Length: 24; Trimmed: 40 times.\\n\\nNo. of allowed errors:\\n0-9 bp: 0; 10-19 bp: 1; 20-24 bp: 2\\n\\nBases preceding removed adapters:\\n  A: 22.5%\\n  C: 27.5%\\n  G: 32.5%\\n  T: 17.5%\\n  none/other: 0.0%\\n\\nOverview of removed sequences\\nlength\\tcount\\texpect\\tmax.err\\terror counts\\n1\\t36\\t184.0\\t0\\t36\\n2\\t3\\t46.0\\t0\\t3\\n3\\t1\\t11.5\\t0\\t1\\n\\n\\nRUN STATISTICS FOR INPUT FILE: data/reads/sar434-2019_S86_L001_R2_001.fastq.gz\\n=============================================\\n736 sequences processed in total\\nThe length threshold of paired-end sequences gets evaluated later on (in the validation step)\\n\\nValidate paired-end files sar434-2019_S86_L001_R1_001_trimmed.fq.gz and sar434-2019_S86_L001_R2_001_trimmed.fq.gz\\nfile_1: sar434-2019_S86_L001_R1_001_trimmed.fq.gz, file_2: sar434-2019_S86_L001_R2_001_trimmed.fq.gz\\n\\n\\n>>>>> Now validing the length of the 2 paired-end infiles: sar434-2019_S86_L001_R1_001_trimmed.fq.gz and sar434-2019_S86_L001_R2_001_trimmed.fq.gz <<<<<\\nWriting validated paired-end Read 1 reads to sar434-2019_S86_L001_R1_001_val_1.fq.gz\\nWriting validated paired-end Read 2 reads to sar434-2019_S86_L001_R2_001_val_2.fq.gz\\n\\nTotal number of sequences analysed: 736\\n\\nNumber of sequence pairs removed because at least one read was shorter than the length cutoff (20 bp): 45 (6.11%)\\n\\n\\n  >>> Now running FastQC on the validated data sar434-2019_S86_L001_R1_001_val_1.fq.gz<<<\\n\\nCan\\'t exec \"fastqc\": No such file or directory at sw/TrimGalore-0.6.5/trim_galore line 1349, <IN2> line 2944.\\n\\n  >>> Now running FastQC on the validated data sar434-2019_S86_L001_R2_001_val_2.fq.gz<<<\\n\\nCan\\'t exec \"fastqc\": No such file or directory at sw/TrimGalore-0.6.5/trim_galore line 1359, <IN2> line 2944.\\nDeleting both intermediate output files sar434-2019_S86_L001_R1_001_trimmed.fq.gz and sar434-2019_S86_L001_R2_001_trimmed.fq.gz\\n\\n====================================================================================================\\n\\n'\n",
      "----------\n",
      "Executing: sw/TrimGalore-0.6.5/trim_galore --fastqc --paired data/reads/sar435-2019_S86_L001_R1_001.fastq.gz data/reads/sar435-2019_S86_L001_R2_001.fastq.gz --output_dir data/clean/ -a AATGATACGGCGACCACCGAGATCTACAC -a CAAGCAGAAGACGGCATACGAGAT\n",
      "b\"Multicore support not enabled. Proceeding with single-core trimming.\\nPath to Cutadapt set as: 'cutadapt' (default)\\nCutadapt seems to be working fine (tested command 'cutadapt --version')\\nCutadapt version: 1.15\\nsingle-core operation.\\nNo quality encoding type selected. Assuming that the data provided uses Sanger encoded Phred scores (default)\\n\\nOutput will be written into the directory: /home/juan/Desktop/juan/bio/gliadinas/data/clean/\\ngzip: data/reads/sar435-2019_S86_L001_R1_001.fastq.gz: No such file or directory\\nInput file 'data/reads/sar435-2019_S86_L001_R1_001.fastq.gz' seems to be completely empty. Consider respecifying!\\n\\n\"\n",
      "----------\n",
      "Executing: sw/TrimGalore-0.6.5/trim_galore --fastqc --paired data/reads/sar436-2019_S86_L001_R1_001.fastq.gz data/reads/sar436-2019_S86_L001_R2_001.fastq.gz --output_dir data/clean/ -a AATGATACGGCGACCACCGAGATCTACAC -a CAAGCAGAAGACGGCATACGAGAT\n",
      "b\"Multicore support not enabled. Proceeding with single-core trimming.\\nPath to Cutadapt set as: 'cutadapt' (default)\\nCutadapt seems to be working fine (tested command 'cutadapt --version')\\nCutadapt version: 1.15\\nsingle-core operation.\\nNo quality encoding type selected. Assuming that the data provided uses Sanger encoded Phred scores (default)\\n\\nOutput will be written into the directory: /home/juan/Desktop/juan/bio/gliadinas/data/clean/\\ngzip: data/reads/sar436-2019_S86_L001_R1_001.fastq.gz: No such file or directory\\nInput file 'data/reads/sar436-2019_S86_L001_R1_001.fastq.gz' seems to be completely empty. Consider respecifying!\\n\\n\"\n",
      "----------\n",
      "Executing: sw/TrimGalore-0.6.5/trim_galore --fastqc --paired data/reads/sar437-2019_S86_L001_R1_001.fastq.gz data/reads/sar437-2019_S86_L001_R2_001.fastq.gz --output_dir data/clean/ -a AATGATACGGCGACCACCGAGATCTACAC -a CAAGCAGAAGACGGCATACGAGAT\n",
      "b\"Multicore support not enabled. Proceeding with single-core trimming.\\nPath to Cutadapt set as: 'cutadapt' (default)\\nCutadapt seems to be working fine (tested command 'cutadapt --version')\\nCutadapt version: 1.15\\nsingle-core operation.\\nNo quality encoding type selected. Assuming that the data provided uses Sanger encoded Phred scores (default)\\n\\nOutput will be written into the directory: /home/juan/Desktop/juan/bio/gliadinas/data/clean/\\ngzip: data/reads/sar437-2019_S86_L001_R1_001.fastq.gz: No such file or directory\\nInput file 'data/reads/sar437-2019_S86_L001_R1_001.fastq.gz' seems to be completely empty. Consider respecifying!\\n\\n\"\n",
      "----------\n",
      "Executing: sw/TrimGalore-0.6.5/trim_galore --fastqc --paired data/reads/sar438-2019_S86_L001_R1_001.fastq.gz data/reads/sar438-2019_S86_L001_R2_001.fastq.gz --output_dir data/clean/ -a AATGATACGGCGACCACCGAGATCTACAC -a CAAGCAGAAGACGGCATACGAGAT\n",
      "b\"Multicore support not enabled. Proceeding with single-core trimming.\\nPath to Cutadapt set as: 'cutadapt' (default)\\nCutadapt seems to be working fine (tested command 'cutadapt --version')\\nCutadapt version: 1.15\\nsingle-core operation.\\nNo quality encoding type selected. Assuming that the data provided uses Sanger encoded Phred scores (default)\\n\\nOutput will be written into the directory: /home/juan/Desktop/juan/bio/gliadinas/data/clean/\\ngzip: data/reads/sar438-2019_S86_L001_R1_001.fastq.gz: No such file or directory\\nInput file 'data/reads/sar438-2019_S86_L001_R1_001.fastq.gz' seems to be completely empty. Consider respecifying!\\n\\n\"\n",
      "----------\n",
      "Executing: sw/TrimGalore-0.6.5/trim_galore --fastqc --paired data/reads/sar439-2019_S86_L001_R1_001.fastq.gz data/reads/sar439-2019_S86_L001_R2_001.fastq.gz --output_dir data/clean/ -a AATGATACGGCGACCACCGAGATCTACAC -a CAAGCAGAAGACGGCATACGAGAT\n"
     ]
    },
    {
     "ename": "KeyboardInterrupt",
     "evalue": "",
     "output_type": "error",
     "traceback": [
      "\u001b[0;31m---------------------------------------------------------------------------\u001b[0m",
      "\u001b[0;31mKeyboardInterrupt\u001b[0m                         Traceback (most recent call last)",
      "\u001b[0;32m<ipython-input-15-0cdc356bb9cb>\u001b[0m in \u001b[0;36m<module>\u001b[0;34m()\u001b[0m\n\u001b[1;32m      5\u001b[0m     \u001b[0mcmd\u001b[0m \u001b[0;34m=\u001b[0m \u001b[0;34m\"sw/TrimGalore-0.6.5/trim_galore --fastqc --paired {} {} --output_dir {} -a {} -a {}\"\u001b[0m\u001b[0;34m\u001b[0m\u001b[0;34m\u001b[0m\u001b[0m\n\u001b[1;32m      6\u001b[0m     \u001b[0mcmd\u001b[0m \u001b[0;34m=\u001b[0m \u001b[0mcmd\u001b[0m\u001b[0;34m.\u001b[0m\u001b[0mformat\u001b[0m\u001b[0;34m(\u001b[0m\u001b[0msample_1\u001b[0m\u001b[0;34m,\u001b[0m \u001b[0msample_2\u001b[0m\u001b[0;34m,\u001b[0m \u001b[0mpath_output_dir\u001b[0m\u001b[0;34m,\u001b[0m \u001b[0madapter_f\u001b[0m\u001b[0;34m,\u001b[0m \u001b[0madapter_r\u001b[0m\u001b[0;34m)\u001b[0m\u001b[0;34m\u001b[0m\u001b[0;34m\u001b[0m\u001b[0m\n\u001b[0;32m----> 7\u001b[0;31m     \u001b[0mout\u001b[0m\u001b[0;34m,\u001b[0m \u001b[0merr\u001b[0m \u001b[0;34m=\u001b[0m \u001b[0msys\u001b[0m\u001b[0;34m(\u001b[0m\u001b[0mcmd\u001b[0m\u001b[0;34m)\u001b[0m\u001b[0;34m\u001b[0m\u001b[0;34m\u001b[0m\u001b[0m\n\u001b[0m",
      "\u001b[0;32m<ipython-input-12-8a62ac678f29>\u001b[0m in \u001b[0;36msys\u001b[0;34m(command)\u001b[0m\n\u001b[1;32m     10\u001b[0m     \u001b[0mprint\u001b[0m\u001b[0;34m(\u001b[0m\u001b[0;34m\"Executing: %s\"\u001b[0m \u001b[0;34m%\u001b[0m \u001b[0mcommand\u001b[0m\u001b[0;34m)\u001b[0m\u001b[0;34m\u001b[0m\u001b[0;34m\u001b[0m\u001b[0m\n\u001b[1;32m     11\u001b[0m     \u001b[0mprocess\u001b[0m \u001b[0;34m=\u001b[0m \u001b[0msubprocess\u001b[0m\u001b[0;34m.\u001b[0m\u001b[0mPopen\u001b[0m\u001b[0;34m(\u001b[0m\u001b[0mcommand\u001b[0m\u001b[0;34m,\u001b[0m\u001b[0mshell\u001b[0m\u001b[0;34m=\u001b[0m\u001b[0;32mTrue\u001b[0m\u001b[0;34m,\u001b[0m\u001b[0mstdout\u001b[0m\u001b[0;34m=\u001b[0m\u001b[0msubprocess\u001b[0m\u001b[0;34m.\u001b[0m\u001b[0mPIPE\u001b[0m\u001b[0;34m,\u001b[0m\u001b[0mstderr\u001b[0m\u001b[0;34m=\u001b[0m\u001b[0msubprocess\u001b[0m\u001b[0;34m.\u001b[0m\u001b[0mPIPE\u001b[0m\u001b[0;34m)\u001b[0m\u001b[0;34m\u001b[0m\u001b[0;34m\u001b[0m\u001b[0m\n\u001b[0;32m---> 12\u001b[0;31m     \u001b[0mstdout\u001b[0m\u001b[0;34m,\u001b[0m \u001b[0mstderr\u001b[0m \u001b[0;34m=\u001b[0m \u001b[0mprocess\u001b[0m\u001b[0;34m.\u001b[0m\u001b[0mcommunicate\u001b[0m\u001b[0;34m(\u001b[0m\u001b[0;34m)\u001b[0m\u001b[0;34m\u001b[0m\u001b[0;34m\u001b[0m\u001b[0m\n\u001b[0m\u001b[1;32m     13\u001b[0m     \u001b[0;31m#print(\"Result: stdout: %s - stderr: %s\" % (stdout, stderr))\u001b[0m\u001b[0;34m\u001b[0m\u001b[0;34m\u001b[0m\u001b[0;34m\u001b[0m\u001b[0m\n\u001b[1;32m     14\u001b[0m     \u001b[0;31m#print(\"-\" * 10)\u001b[0m\u001b[0;34m\u001b[0m\u001b[0;34m\u001b[0m\u001b[0;34m\u001b[0m\u001b[0m\n",
      "\u001b[0;32m/usr/lib/python3.6/subprocess.py\u001b[0m in \u001b[0;36mcommunicate\u001b[0;34m(self, input, timeout)\u001b[0m\n\u001b[1;32m    861\u001b[0m \u001b[0;34m\u001b[0m\u001b[0m\n\u001b[1;32m    862\u001b[0m             \u001b[0;32mtry\u001b[0m\u001b[0;34m:\u001b[0m\u001b[0;34m\u001b[0m\u001b[0;34m\u001b[0m\u001b[0m\n\u001b[0;32m--> 863\u001b[0;31m                 \u001b[0mstdout\u001b[0m\u001b[0;34m,\u001b[0m \u001b[0mstderr\u001b[0m \u001b[0;34m=\u001b[0m \u001b[0mself\u001b[0m\u001b[0;34m.\u001b[0m\u001b[0m_communicate\u001b[0m\u001b[0;34m(\u001b[0m\u001b[0minput\u001b[0m\u001b[0;34m,\u001b[0m \u001b[0mendtime\u001b[0m\u001b[0;34m,\u001b[0m \u001b[0mtimeout\u001b[0m\u001b[0;34m)\u001b[0m\u001b[0;34m\u001b[0m\u001b[0;34m\u001b[0m\u001b[0m\n\u001b[0m\u001b[1;32m    864\u001b[0m             \u001b[0;32mfinally\u001b[0m\u001b[0;34m:\u001b[0m\u001b[0;34m\u001b[0m\u001b[0;34m\u001b[0m\u001b[0m\n\u001b[1;32m    865\u001b[0m                 \u001b[0mself\u001b[0m\u001b[0;34m.\u001b[0m\u001b[0m_communication_started\u001b[0m \u001b[0;34m=\u001b[0m \u001b[0;32mTrue\u001b[0m\u001b[0;34m\u001b[0m\u001b[0;34m\u001b[0m\u001b[0m\n",
      "\u001b[0;32m/usr/lib/python3.6/subprocess.py\u001b[0m in \u001b[0;36m_communicate\u001b[0;34m(self, input, endtime, orig_timeout)\u001b[0m\n\u001b[1;32m   1532\u001b[0m                         \u001b[0;32mraise\u001b[0m \u001b[0mTimeoutExpired\u001b[0m\u001b[0;34m(\u001b[0m\u001b[0mself\u001b[0m\u001b[0;34m.\u001b[0m\u001b[0margs\u001b[0m\u001b[0;34m,\u001b[0m \u001b[0morig_timeout\u001b[0m\u001b[0;34m)\u001b[0m\u001b[0;34m\u001b[0m\u001b[0;34m\u001b[0m\u001b[0m\n\u001b[1;32m   1533\u001b[0m \u001b[0;34m\u001b[0m\u001b[0m\n\u001b[0;32m-> 1534\u001b[0;31m                     \u001b[0mready\u001b[0m \u001b[0;34m=\u001b[0m \u001b[0mselector\u001b[0m\u001b[0;34m.\u001b[0m\u001b[0mselect\u001b[0m\u001b[0;34m(\u001b[0m\u001b[0mtimeout\u001b[0m\u001b[0;34m)\u001b[0m\u001b[0;34m\u001b[0m\u001b[0;34m\u001b[0m\u001b[0m\n\u001b[0m\u001b[1;32m   1535\u001b[0m                     \u001b[0mself\u001b[0m\u001b[0;34m.\u001b[0m\u001b[0m_check_timeout\u001b[0m\u001b[0;34m(\u001b[0m\u001b[0mendtime\u001b[0m\u001b[0;34m,\u001b[0m \u001b[0morig_timeout\u001b[0m\u001b[0;34m)\u001b[0m\u001b[0;34m\u001b[0m\u001b[0;34m\u001b[0m\u001b[0m\n\u001b[1;32m   1536\u001b[0m \u001b[0;34m\u001b[0m\u001b[0m\n",
      "\u001b[0;32m/usr/lib/python3.6/selectors.py\u001b[0m in \u001b[0;36mselect\u001b[0;34m(self, timeout)\u001b[0m\n\u001b[1;32m    374\u001b[0m             \u001b[0mready\u001b[0m \u001b[0;34m=\u001b[0m \u001b[0;34m[\u001b[0m\u001b[0;34m]\u001b[0m\u001b[0;34m\u001b[0m\u001b[0;34m\u001b[0m\u001b[0m\n\u001b[1;32m    375\u001b[0m             \u001b[0;32mtry\u001b[0m\u001b[0;34m:\u001b[0m\u001b[0;34m\u001b[0m\u001b[0;34m\u001b[0m\u001b[0m\n\u001b[0;32m--> 376\u001b[0;31m                 \u001b[0mfd_event_list\u001b[0m \u001b[0;34m=\u001b[0m \u001b[0mself\u001b[0m\u001b[0;34m.\u001b[0m\u001b[0m_poll\u001b[0m\u001b[0;34m.\u001b[0m\u001b[0mpoll\u001b[0m\u001b[0;34m(\u001b[0m\u001b[0mtimeout\u001b[0m\u001b[0;34m)\u001b[0m\u001b[0;34m\u001b[0m\u001b[0;34m\u001b[0m\u001b[0m\n\u001b[0m\u001b[1;32m    377\u001b[0m             \u001b[0;32mexcept\u001b[0m \u001b[0mInterruptedError\u001b[0m\u001b[0;34m:\u001b[0m\u001b[0;34m\u001b[0m\u001b[0;34m\u001b[0m\u001b[0m\n\u001b[1;32m    378\u001b[0m                 \u001b[0;32mreturn\u001b[0m \u001b[0mready\u001b[0m\u001b[0;34m\u001b[0m\u001b[0;34m\u001b[0m\u001b[0m\n",
      "\u001b[0;31mKeyboardInterrupt\u001b[0m: "
     ]
    }
   ],
   "source": [
    "s = 86\n",
    "for i in range(434, 536):\n",
    "    sample_1 = \"data/reads/sar{}-2019_S{}_L001_R1_001.fastq.gz\".format(i,s)\n",
    "    sample_2 = \"data/reads/sar{}-2019_S{}_L001_R2_001.fastq.gz\".format(i,s)\n",
    "    cmd = \"sw/TrimGalore-0.6.5/trim_galore --fastqc --paired {} {} --output_dir {} -a {} -a {}\"\n",
    "    cmd = cmd.format(sample_1, sample_2, path_output_dir, adapter_f, adapter_r)\n",
    "    out, err = sys(cmd)\n"
   ]
  },
  {
   "cell_type": "code",
   "execution_count": null,
   "metadata": {},
   "outputs": [],
   "source": []
  },
  {
   "cell_type": "code",
   "execution_count": null,
   "metadata": {},
   "outputs": [],
   "source": [
    "#!/usr/bin/env bds\n",
    "\n",
    "string adapters = \"data/adapters_new_rc.fa\"\n",
    "\n",
    "\n",
    "sys export PATH=$PATH:$PWD/sw/SPAdes-3.13.0-Linux/bin\n",
    "sys export PATH=$PATH:$PWD/sw/.bds\n",
    "sys export PATH=$PATH:$PWD/sw/cutadapt-2.7\n",
    "sys export PATH=$PATH:$PWD/sw/FastQC\n",
    "\n",
    "sys rm -r data/clean_1/*\n",
    "sys rm -r data/clean_2/*\n",
    "sys rm -r data/clean_3/*\n",
    "sys rm -r data/assembly/*\n",
    "\n",
    "int s = 86\n",
    "for( int i=434 ; i <= 535 ; i++ ) {\n",
    "\n",
    "    string sample_1_1 = \"data/reads/sar\"+i+\"-2019_S\"+s+\"_L001_R1_001.fastq.gz\"\n",
    "    string sample_2_1 = \"data/reads/sar\"+i+\"-2019_S\"+s+\"_L001_R2_001.fastq.gz\"\n",
    "    try{\n",
    "        sys sw/TrimGalore-0.6.5/trim_galore --paired $sample_1_1 $sample_2_1 --output_dir data/clean_1/\n",
    "    }catch (Exception e){\n",
    "        print \"error in $sample_1_1 $sample_2_1\\n\"\n",
    "    }\n",
    "    \n",
    "\n",
    "    string sample_1_2 = \"data/clean_1/sar\"+i+\"-2019_S\"+s+\"_L001_R1_001_val_1.fq.gz\"\n",
    "    string sample_2_2 = \"data/clean_1/sar\"+i+\"-2019_S\"+s+\"_L001_R2_001_val_2.fq.gz\"\n",
    "    try{\n",
    "        sys sw/TrimGalore-0.6.5/trim_galore --fastqc --paired $sample_1_2 $sample_2_2 --output_dir data/clean_2/ -a AATGATACGGCGACCACCGAGATCTACAC -a CAAGCAGAAGACGGCATACGAGAT\n",
    "    }catch (Exception e){\n",
    "        print \"error in $sample_1_2 $sample_2_2\\n\"\n",
    "    }\n",
    "\n",
    "    string sample_1_3 = \"data/clean_2/sar\"+i+\"-2019_S\"+s+\"_L001_R1_001_val_1_val_1.fq.gz\"\n",
    "    string sample_2_3 = \"data/clean_2/sar\"+i+\"-2019_S\"+s+\"_L001_R2_001_val_2_val_2.fq.gz\"\n",
    "    try{\n",
    "        sys sw/TrimGalore-0.6.5/trim_galore --fastqc --paired $sample_1_3 $sample_2_3 --output_dir data/clean_3/ -a GTGTAGATCTCGGTGGTCGCCGTATCATT -a ATCTCGTATGCCGTCTTCTGCTTG\n",
    "    }catch (Exception e){\n",
    "        print \"error in $sample_1_3 $sample_2_3\\n\"\n",
    "    }\n",
    "\n",
    "    string sample_1 = \"data/clean_3/sar\"+i+\"-2019_S\"+s+\"_L001_R1_001_val_1_val_1_val_1.fq.gz\"\n",
    "    string sample_2 = \"data/clean_3/sar\"+i+\"-2019_S\"+s+\"_L001_R2_001_val_2_val_2_val_2.fq.gz\"\n",
    "    string sample_out = \"data/assembly/sar\" + i + \"-2019_S\" + s + \"/\"\n",
    "    \n",
    "    sys sw/SPAdes-3.13.0-Linux/bin/spades.py --careful -1 $sample_1_3 -2 $sample_2_3 -o $sample_out\n",
    "\n",
    "    s = s + 1\n",
    "}\n"
   ]
  }
 ],
 "metadata": {
  "kernelspec": {
   "display_name": "Python 3",
   "language": "python",
   "name": "python3"
  },
  "language_info": {
   "codemirror_mode": {
    "name": "ipython",
    "version": 3
   },
   "file_extension": ".py",
   "mimetype": "text/x-python",
   "name": "python",
   "nbconvert_exporter": "python",
   "pygments_lexer": "ipython3",
   "version": "3.6.5"
  }
 },
 "nbformat": 4,
 "nbformat_minor": 2
}
